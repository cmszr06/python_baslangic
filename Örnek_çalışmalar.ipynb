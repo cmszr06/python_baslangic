{
  "nbformat": 4,
  "nbformat_minor": 0,
  "metadata": {
    "colab": {
      "name": "Örnek çalışmalar.ipynb",
      "provenance": [],
      "authorship_tag": "ABX9TyM5RbBPZch3qJU+zdNIqWL0",
      "include_colab_link": true
    },
    "kernelspec": {
      "name": "python3",
      "display_name": "Python 3"
    }
  },
  "cells": [
    {
      "cell_type": "markdown",
      "metadata": {
        "id": "view-in-github",
        "colab_type": "text"
      },
      "source": [
        "<a href=\"https://colab.research.google.com/github/cmszr06/python_baslangic/blob/main/%C3%96rnek_%C3%A7al%C4%B1%C5%9Fmalar.ipynb\" target=\"_parent\"><img src=\"https://colab.research.google.com/assets/colab-badge.svg\" alt=\"Open In Colab\"/></a>"
      ]
    },
    {
      "cell_type": "markdown",
      "metadata": {
        "id": "eLqUyNiVwPle"
      },
      "source": [
        "True False"
      ]
    },
    {
      "cell_type": "code",
      "metadata": {
        "colab": {
          "base_uri": "https://localhost:8080/"
        },
        "id": "x__ei8DYwJwU",
        "outputId": "3a6dcb52-d203-4a35-b4ad-cae95c503aff"
      },
      "source": [
        "sayi1=8*5/2\r\n",
        "print(sayi1>20)"
      ],
      "execution_count": 1,
      "outputs": [
        {
          "output_type": "stream",
          "text": [
            "False\n"
          ],
          "name": "stdout"
        }
      ]
    },
    {
      "cell_type": "code",
      "metadata": {
        "colab": {
          "base_uri": "https://localhost:8080/"
        },
        "id": "W4xAoXPBwevJ",
        "outputId": "7cec8d46-c417-49b2-b27b-e3999f085650"
      },
      "source": [
        "vizePuani=80\r\n",
        "finalPuani=70\r\n",
        "sonuc=(0.4*vizePuani)+(finalPuani*0.6)\r\n",
        "print(sonuc>=60)"
      ],
      "execution_count": 2,
      "outputs": [
        {
          "output_type": "stream",
          "text": [
            "True\n"
          ],
          "name": "stdout"
        }
      ]
    },
    {
      "cell_type": "markdown",
      "metadata": {
        "id": "2jRwWy1pwxi4"
      },
      "source": [
        "**Değişken İsimlendirme** Doğru ve Yanlış isimlendirme"
      ]
    },
    {
      "cell_type": "code",
      "metadata": {
        "colab": {
          "base_uri": "https://localhost:8080/",
          "height": 133
        },
        "id": "PhwHAux9w1Gs",
        "outputId": "935f02c9-cd09-42f5-ba9e-07821756ec4b"
      },
      "source": [
        "_sinav_puani1=80\r\n",
        "sinavPuani=90\r\n",
        "1sinavpuani=100\r\n",
        "SınavPuanı=70"
      ],
      "execution_count": 3,
      "outputs": [
        {
          "output_type": "error",
          "ename": "SyntaxError",
          "evalue": "ignored",
          "traceback": [
            "\u001b[0;36m  File \u001b[0;32m\"<ipython-input-3-36471b2a21d1>\"\u001b[0;36m, line \u001b[0;32m3\u001b[0m\n\u001b[0;31m    1sinavpuani=100\u001b[0m\n\u001b[0m              ^\u001b[0m\n\u001b[0;31mSyntaxError\u001b[0m\u001b[0;31m:\u001b[0m invalid syntax\n"
          ]
        }
      ]
    },
    {
      "cell_type": "code",
      "metadata": {
        "colab": {
          "base_uri": "https://localhost:8080/"
        },
        "id": "rBPoAp5ZxG16",
        "outputId": "c36ef178-472e-41c1-a481-a69aa3075c88"
      },
      "source": [
        "plaka=\"06\"\r\n",
        "print(type(plaka))"
      ],
      "execution_count": 4,
      "outputs": [
        {
          "output_type": "stream",
          "text": [
            "<class 'str'>\n"
          ],
          "name": "stdout"
        }
      ]
    },
    {
      "cell_type": "code",
      "metadata": {
        "colab": {
          "base_uri": "https://localhost:8080/"
        },
        "id": "_ekutg43xNZU",
        "outputId": "c40cf963-1ec0-4aa4-9f01-3577d168591b"
      },
      "source": [
        "#sehir=\"Ankara\"\r\n",
        "sehir=\"İstanbul\"\r\n",
        "print(\"Şehir: \", sehir)"
      ],
      "execution_count": 6,
      "outputs": [
        {
          "output_type": "stream",
          "text": [
            "Şehir:  İstanbul\n"
          ],
          "name": "stdout"
        }
      ]
    },
    {
      "cell_type": "code",
      "metadata": {
        "colab": {
          "base_uri": "https://localhost:8080/"
        },
        "id": "26Xc_VGyxbVK",
        "outputId": "b95f7e2a-e763-4fa0-afe4-970a922692b0"
      },
      "source": [
        "sehir=\"Ankara\"\r\n",
        "sehir=\"İstanbul\"\r\n",
        "print(sehir!=\"istanbul\")\r\n",
        "print(sehir==\"İstanbul\")"
      ],
      "execution_count": 8,
      "outputs": [
        {
          "output_type": "stream",
          "text": [
            "True\n",
            "True\n"
          ],
          "name": "stdout"
        }
      ]
    },
    {
      "cell_type": "code",
      "metadata": {
        "colab": {
          "base_uri": "https://localhost:8080/"
        },
        "id": "9TxD9uBfxr1B",
        "outputId": "0fd79819-731f-4550-d9f6-e3957d6136f9"
      },
      "source": [
        "veliAdSoyad=\"Cem SEZER\"\r\n",
        "devamsızlık=10\r\n",
        "mesaj= 'sayın '+veliAdSoyad+' Öğrencinizin toplam devamsızlığı '+str(devamsızlık)+' gündür'\r\n",
        "print(mesaj)\r\n"
      ],
      "execution_count": 18,
      "outputs": [
        {
          "output_type": "stream",
          "text": [
            "sayın Cem SEZER Öğrencinizin toplam devamsızlığı 10 gündür\n"
          ],
          "name": "stdout"
        }
      ]
    },
    {
      "cell_type": "code",
      "metadata": {
        "colab": {
          "base_uri": "https://localhost:8080/"
        },
        "id": "mL1MANCgzLHI",
        "outputId": "15ff42e5-63fa-472c-d05b-35187029511b"
      },
      "source": [
        "aboneNumarası=\"52698793\"\r\n",
        "tüketimDönemi=\" Mart\"\r\n",
        "tüketim=20\r\n",
        "tüketim*=1\r\n",
        "hitap='sayın '+aboneNumarası+ ' nolu abonemiz'+tüketimDönemi+' dönemi faturanız '+str(tüketim)+'TLdir.'\r\n",
        "print(hitap)"
      ],
      "execution_count": 28,
      "outputs": [
        {
          "output_type": "stream",
          "text": [
            "sayın 52698793 nolu abonemiz Mart dönemi faturanız 20TLdir.\n"
          ],
          "name": "stdout"
        }
      ]
    }
  ]
}