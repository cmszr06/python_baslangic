{
  "nbformat": 4,
  "nbformat_minor": 0,
  "metadata": {
    "colab": {
      "name": "Temel fonksiyonlar.ipynb",
      "provenance": [],
      "collapsed_sections": [],
      "authorship_tag": "ABX9TyPUYDQibi4ysx79TwYZxrcm",
      "include_colab_link": true
    },
    "kernelspec": {
      "name": "python3",
      "display_name": "Python 3"
    }
  },
  "cells": [
    {
      "cell_type": "markdown",
      "metadata": {
        "id": "view-in-github",
        "colab_type": "text"
      },
      "source": [
        "<a href=\"https://colab.research.google.com/github/cmszr06/python_baslangic/blob/main/Temel_fonksiyonlar.ipynb\" target=\"_parent\"><img src=\"https://colab.research.google.com/assets/colab-badge.svg\" alt=\"Open In Colab\"/></a>"
      ]
    },
    {
      "cell_type": "markdown",
      "metadata": {
        "id": "SMoo-0olsN21"
      },
      "source": [
        "print() kullanımı"
      ]
    },
    {
      "cell_type": "code",
      "metadata": {
        "colab": {
          "base_uri": "https://localhost:8080/"
        },
        "id": "aKpBOzbgsM54",
        "outputId": "b8c837cb-3310-43a0-bcc7-9c6c9616aed3"
      },
      "source": [
        "print(\"değer\")\r\n",
        "print('değer')\r\n",
        "print(\"\"\"değer\"\"\")   #içinde kullanılan değerlere argüman denilmektedir. bunun doğruluğu kontrol edilir....\r\n",
        "print(5)"
      ],
      "execution_count": null,
      "outputs": [
        {
          "output_type": "stream",
          "text": [
            "değer\n",
            "değer\n",
            "değer\n",
            "5\n"
          ],
          "name": "stdout"
        }
      ]
    },
    {
      "cell_type": "code",
      "metadata": {
        "colab": {
          "base_uri": "https://localhost:8080/"
        },
        "id": "DylCarkbtHGR",
        "outputId": "1f76b1cb-98dd-4dec-9659-66ae8e25a4d8"
      },
      "source": [
        "print(\"Türkiye'nin en kalabalık ili İstanbul'dur.\")"
      ],
      "execution_count": null,
      "outputs": [
        {
          "output_type": "stream",
          "text": [
            "Türkiye'nin en kalabalık ili İstanbul'dur.\n"
          ],
          "name": "stdout"
        }
      ]
    },
    {
      "cell_type": "code",
      "metadata": {
        "colab": {
          "base_uri": "https://localhost:8080/"
        },
        "id": "k6BmtSE5CdOW",
        "outputId": "1911a961-5c83-4630-b9b0-8117d018b7ff"
      },
      "source": [
        "print('Türkiye\\'nin en kalabalık ili İstanbul\\'dur.') # ters taksim ile sonradan gelen karakteri etkisiz hale getirdik..."
      ],
      "execution_count": 13,
      "outputs": [
        {
          "output_type": "stream",
          "text": [
            "Türkiye'nin en kalabalık ili İstanbul'dur.\n"
          ],
          "name": "stdout"
        }
      ]
    },
    {
      "cell_type": "code",
      "metadata": {
        "colab": {
          "base_uri": "https://localhost:8080/"
        },
        "id": "zFoYT6E_CqG7",
        "outputId": "148303fe-0f02-46ab-e9d2-42a2bff23e63"
      },
      "source": [
        "print(\"1.satır\\n2.satır\\n3.satır\")"
      ],
      "execution_count": 14,
      "outputs": [
        {
          "output_type": "stream",
          "text": [
            "1.satır\n",
            "2.satır\n",
            "3.satır\n"
          ],
          "name": "stdout"
        }
      ]
    },
    {
      "cell_type": "code",
      "metadata": {
        "colab": {
          "base_uri": "https://localhost:8080/"
        },
        "id": "Ik_dBRpxC3jR",
        "outputId": "11de5375-4d83-4751-8f29-12a63bd637d5"
      },
      "source": [
        "print(\"1.satır \\t2.satır \\t3.satır\")"
      ],
      "execution_count": 16,
      "outputs": [
        {
          "output_type": "stream",
          "text": [
            "1.satır \t2.satır \t3.satır\n"
          ],
          "name": "stdout"
        }
      ]
    },
    {
      "cell_type": "code",
      "metadata": {
        "colab": {
          "base_uri": "https://localhost:8080/"
        },
        "id": "QQflFSR0DB87",
        "outputId": "6f9fea22-8861-4b02-8c43-57cb9d46d42f"
      },
      "source": [
        "print(\"merhaba\", end=\", \")\r\n",
        "print(\"dünya\")"
      ],
      "execution_count": 22,
      "outputs": [
        {
          "output_type": "stream",
          "text": [
            "merhaba, dünya\n"
          ],
          "name": "stdout"
        }
      ]
    },
    {
      "cell_type": "code",
      "metadata": {
        "colab": {
          "base_uri": "https://localhost:8080/"
        },
        "id": "Cd1g3TbiEi-K",
        "outputId": "befc9d93-2596-4ba9-9e24-9e2c15051386"
      },
      "source": [
        "print(\"pazartesi\",\"salı\",\"çarşamba\", sep=\"-\")"
      ],
      "execution_count": 27,
      "outputs": [
        {
          "output_type": "stream",
          "text": [
            "pazartesi-salı-çarşamba\n"
          ],
          "name": "stdout"
        }
      ]
    },
    {
      "cell_type": "code",
      "metadata": {
        "colab": {
          "base_uri": "https://localhost:8080/"
        },
        "id": "QEtQ93GCFd6p",
        "outputId": "0bca681d-43b0-4462-ab9f-a320ce292893"
      },
      "source": [
        "print(\"çıktı işlemi {} {} {}\".format(1,2,3))"
      ],
      "execution_count": 28,
      "outputs": [
        {
          "output_type": "stream",
          "text": [
            "çıktı işlemi 1 2 3\n"
          ],
          "name": "stdout"
        }
      ]
    },
    {
      "cell_type": "code",
      "metadata": {
        "colab": {
          "base_uri": "https://localhost:8080/"
        },
        "id": "DqhVf3qjGhNk",
        "outputId": "e1c608f7-e9dd-4900-88de-edf085f39d6e"
      },
      "source": [
        "a=5\r\n",
        "b=6\r\n",
        "c=9\r\n",
        "print(\"girdiğiniz {}, {} ve {} değerleri toplamı: {}'dir.\" .format(a,b,c,a+b+c))"
      ],
      "execution_count": 30,
      "outputs": [
        {
          "output_type": "stream",
          "text": [
            "girdiğiniz 5, 6 ve 9 değerleri toplamı: 20'dir.\n"
          ],
          "name": "stdout"
        }
      ]
    },
    {
      "cell_type": "code",
      "metadata": {
        "colab": {
          "base_uri": "https://localhost:8080/"
        },
        "id": "qrZLDOxRHFKn",
        "outputId": "849105cd-c709-42b1-ef4b-1b0facc8a9d5"
      },
      "source": [
        "print(\"{1} {0} {2}\" .format(10,\"python\",20))"
      ],
      "execution_count": 31,
      "outputs": [
        {
          "output_type": "stream",
          "text": [
            "python 10 20\n"
          ],
          "name": "stdout"
        }
      ]
    },
    {
      "cell_type": "markdown",
      "metadata": {
        "id": "Q1RYTE6YHsrv"
      },
      "source": [
        "**input() Fonksiyonu**"
      ]
    },
    {
      "cell_type": "code",
      "metadata": {
        "colab": {
          "base_uri": "https://localhost:8080/"
        },
        "id": "TJFqMloOH2LL",
        "outputId": "2e0da587-94a7-4e57-bb60-6a2774bac8bd"
      },
      "source": [
        "isim=input(\"isminizi giriniz\")\r\n",
        "print(\"merhaba \", isim)"
      ],
      "execution_count": 33,
      "outputs": [
        {
          "output_type": "stream",
          "text": [
            "isminizi girinizcem\n",
            "merhaba  cem\n"
          ],
          "name": "stdout"
        }
      ]
    },
    {
      "cell_type": "code",
      "metadata": {
        "colab": {
          "base_uri": "https://localhost:8080/"
        },
        "id": "g-b0pBUyIWN0",
        "outputId": "15034701-f4eb-42e3-cc74-33992f445f6d"
      },
      "source": [
        "a=int(input(\"birinci sayıyı giriniz: \"))\r\n",
        "b=int(input(\"ikinci sayıyı giriniz: \"))\r\n",
        "print(\"girdiğiniz sayıların toplamı: \",a+b)"
      ],
      "execution_count": 40,
      "outputs": [
        {
          "output_type": "stream",
          "text": [
            "birinci sayıyı giriniz: 5\n",
            "ikinci sayıyı giriniz: 7\n",
            "girdiğiniz sayıların toplamı:  12\n"
          ],
          "name": "stdout"
        }
      ]
    },
    {
      "cell_type": "code",
      "metadata": {
        "colab": {
          "base_uri": "https://localhost:8080/",
          "height": 241
        },
        "id": "B7EGISxZJ9-A",
        "outputId": "844497fe-f6e1-4576-a2ea-176093516a64"
      },
      "source": [
        "c=int(input(\"birinci sayıyı giriniz: \"))\r\n",
        "d=input(\"ikinci sayıyı giriniz: \")\r\n",
        "print(\"girdiğiniz sayıların toplamı: \",c+d)"
      ],
      "execution_count": 41,
      "outputs": [
        {
          "output_type": "stream",
          "text": [
            "birinci sayıyı giriniz: 5\n",
            "ikinci sayıyı giriniz: 6\n"
          ],
          "name": "stdout"
        },
        {
          "output_type": "error",
          "ename": "TypeError",
          "evalue": "ignored",
          "traceback": [
            "\u001b[0;31m---------------------------------------------------------------------------\u001b[0m",
            "\u001b[0;31mTypeError\u001b[0m                                 Traceback (most recent call last)",
            "\u001b[0;32m<ipython-input-41-2b8b995607de>\u001b[0m in \u001b[0;36m<module>\u001b[0;34m()\u001b[0m\n\u001b[1;32m      1\u001b[0m \u001b[0mc\u001b[0m\u001b[0;34m=\u001b[0m\u001b[0mint\u001b[0m\u001b[0;34m(\u001b[0m\u001b[0minput\u001b[0m\u001b[0;34m(\u001b[0m\u001b[0;34m\"birinci sayıyı giriniz: \"\u001b[0m\u001b[0;34m)\u001b[0m\u001b[0;34m)\u001b[0m\u001b[0;34m\u001b[0m\u001b[0;34m\u001b[0m\u001b[0m\n\u001b[1;32m      2\u001b[0m \u001b[0md\u001b[0m\u001b[0;34m=\u001b[0m\u001b[0minput\u001b[0m\u001b[0;34m(\u001b[0m\u001b[0;34m\"ikinci sayıyı giriniz: \"\u001b[0m\u001b[0;34m)\u001b[0m\u001b[0;34m\u001b[0m\u001b[0;34m\u001b[0m\u001b[0m\n\u001b[0;32m----> 3\u001b[0;31m \u001b[0mprint\u001b[0m\u001b[0;34m(\u001b[0m\u001b[0;34m\"girdiğiniz sayıların toplamı: \"\u001b[0m\u001b[0;34m,\u001b[0m\u001b[0mc\u001b[0m\u001b[0;34m+\u001b[0m\u001b[0md\u001b[0m\u001b[0;34m)\u001b[0m\u001b[0;34m\u001b[0m\u001b[0;34m\u001b[0m\u001b[0m\n\u001b[0m",
            "\u001b[0;31mTypeError\u001b[0m: unsupported operand type(s) for +: 'int' and 'str'"
          ]
        }
      ]
    }
  ]
}