{
  "nbformat": 4,
  "nbformat_minor": 0,
  "metadata": {
    "colab": {
      "name": "yorumsatılrları_değişkenler_veritipleri_operatörler.ipynb",
      "provenance": [],
      "collapsed_sections": [],
      "authorship_tag": "ABX9TyNHMh0iKLcQDimIjb4ZDJPr",
      "include_colab_link": true
    },
    "kernelspec": {
      "name": "python3",
      "display_name": "Python 3"
    }
  },
  "cells": [
    {
      "cell_type": "markdown",
      "metadata": {
        "id": "view-in-github",
        "colab_type": "text"
      },
      "source": [
        "<a href=\"https://colab.research.google.com/github/cmszr06/python_baslangic/blob/main/yorumsat%C4%B1lrlar%C4%B1_de%C4%9Fi%C5%9Fkenler_veritipleri_operat%C3%B6rler.ipynb\" target=\"_parent\"><img src=\"https://colab.research.google.com/assets/colab-badge.svg\" alt=\"Open In Colab\"/></a>"
      ]
    },
    {
      "cell_type": "code",
      "metadata": {
        "colab": {
          "base_uri": "https://localhost:8080/"
        },
        "id": "oSWvqRrez-Ow",
        "outputId": "ff675691-cd13-4294-dfc0-571963d27e01"
      },
      "source": [
        "#bu kod ekrana yazı yazılmasını sağlamaktadır.\r\n",
        "print(\"Konu: yorum satırlarını kullanma\")"
      ],
      "execution_count": null,
      "outputs": [
        {
          "output_type": "stream",
          "text": [
            "Konu: yorum satırlarını kullanma\n"
          ],
          "name": "stdout"
        }
      ]
    },
    {
      "cell_type": "code",
      "metadata": {
        "colab": {
          "base_uri": "https://localhost:8080/"
        },
        "id": "H2PXGPO804eI",
        "outputId": "4a31461a-6ff8-4a8c-f24f-fdf13f006acc"
      },
      "source": [
        "print(2+3) #bu kod satırı ekrana 2 sayının toplamını yazar."
      ],
      "execution_count": null,
      "outputs": [
        {
          "output_type": "stream",
          "text": [
            "5\n"
          ],
          "name": "stdout"
        }
      ]
    },
    {
      "cell_type": "code",
      "metadata": {
        "colab": {
          "base_uri": "https://localhost:8080/",
          "height": 36
        },
        "id": "_QkIHrS01KkY",
        "outputId": "441c16d1-8234-416d-a7af-2d24b2be8076"
      },
      "source": [
        "\"\"\" birden \r\n",
        "fazla\r\n",
        "satır\r\n",
        "için\r\n",
        "üçlü tek tırnak veya üçlü çift tırnak kullanılır\"\"\""
      ],
      "execution_count": null,
      "outputs": [
        {
          "output_type": "execute_result",
          "data": {
            "application/vnd.google.colaboratory.intrinsic+json": {
              "type": "string"
            },
            "text/plain": [
              "' birden \\nfazla\\nsatır\\niçin\\nüçlü tek tırnak veya üçlü çift tırnak kullanılır'"
            ]
          },
          "metadata": {
            "tags": []
          },
          "execution_count": 3
        }
      ]
    },
    {
      "cell_type": "markdown",
      "metadata": {
        "id": "yR7DWHu92APU"
      },
      "source": [
        "**DEĞİŞKENLER**"
      ]
    },
    {
      "cell_type": "code",
      "metadata": {
        "colab": {
          "base_uri": "https://localhost:8080/"
        },
        "id": "LnitYhCz158i",
        "outputId": "f3c12847-ef30-4c8f-cd20-ac16d44d92b5"
      },
      "source": [
        "sayi1=5\r\n",
        "print('değişkenin içindeki sayı:', sayi1)\r\n",
        "sayi1=10\r\n",
        "print('değişkenin içindeki sayı:', sayi1,'oldu.')\r\n",
        "sayi1='cem'\r\n",
        "print('değişkenin içindeki değer:', sayi1,'oldu.')\r\n",
        "sayi1=10.5\r\n",
        "print('değişkenin içindeki sayı:', sayi1,'oldu.')"
      ],
      "execution_count": null,
      "outputs": [
        {
          "output_type": "stream",
          "text": [
            "değişkenin içindeki sayı: 5\n",
            "değişkenin içindeki sayı: 10 oldu.\n",
            "değişkenin içindeki değer: cem oldu.\n",
            "değişkenin içindeki sayı: 10.5 oldu.\n"
          ],
          "name": "stdout"
        }
      ]
    },
    {
      "cell_type": "code",
      "metadata": {
        "colab": {
          "base_uri": "https://localhost:8080/"
        },
        "id": "1hqJg2R537SX",
        "outputId": "53b343fb-b39d-4f71-b5d6-6b87dd98a15b"
      },
      "source": [
        "a=b=c=1\r\n",
        "print(\"1.sayı=\", a)\r\n",
        "print(\"2.sayı=\", b)\r\n",
        "print(\"3.sayı=\", c)"
      ],
      "execution_count": null,
      "outputs": [
        {
          "output_type": "stream",
          "text": [
            "1.sayı= 1\n",
            "2.sayı= 1\n",
            "3.sayı= 1\n"
          ],
          "name": "stdout"
        }
      ]
    },
    {
      "cell_type": "code",
      "metadata": {
        "colab": {
          "base_uri": "https://localhost:8080/"
        },
        "id": "HU2PBW8l4PNl",
        "outputId": "538b36c2-85d2-4637-88e6-d09f49029ea0"
      },
      "source": [
        "adi, soyadi, yasi= \"Cem\", \"SEZER\", 30\r\n",
        "print(\"Adı=\", adi)\r\n",
        "print(\"Soyadı=\", soyadi)\r\n",
        "print(\"yaş=\", yasi)"
      ],
      "execution_count": null,
      "outputs": [
        {
          "output_type": "stream",
          "text": [
            "Adı= Cem\n",
            "Soyadı= SEZER\n",
            "yaş= 30\n"
          ],
          "name": "stdout"
        }
      ]
    },
    {
      "cell_type": "code",
      "metadata": {
        "colab": {
          "base_uri": "https://localhost:8080/"
        },
        "id": "8AHoZPg64qEp",
        "outputId": "27f9257c-bb1d-43b1-8cf9-7db41f18eab3"
      },
      "source": [
        "adi=\"cem\"; soyadi=\"sezer\"; yasi=30 \r\n",
        "print(\"Adı=\", adi)\r\n",
        "print(\"Soyadı=\", soyadi)\r\n",
        "print(\"yaş=\", yasi)"
      ],
      "execution_count": null,
      "outputs": [
        {
          "output_type": "stream",
          "text": [
            "Adı= cem\n",
            "Soyadı= sezer\n",
            "yaş= 30\n"
          ],
          "name": "stdout"
        }
      ]
    },
    {
      "cell_type": "code",
      "metadata": {
        "colab": {
          "base_uri": "https://localhost:8080/"
        },
        "id": "d9Q5KdSb4-3j",
        "outputId": "46bdc082-f634-4c62-94ed-6f439fd0df17"
      },
      "source": [
        "yenisayi=int() #değer atamadan tanımlama yapmak için parantez içi boş bırakılır bu sayede 0 değeri döner\r\n",
        "print(yenisayi)"
      ],
      "execution_count": null,
      "outputs": [
        {
          "output_type": "stream",
          "text": [
            "0\n"
          ],
          "name": "stdout"
        }
      ]
    },
    {
      "cell_type": "code",
      "metadata": {
        "colab": {
          "base_uri": "https://localhost:8080/",
          "height": 205
        },
        "id": "JTHZ6qwf5R0c",
        "outputId": "95ba3ac0-8190-48ef-c343-4e3b7739b55f"
      },
      "source": [
        "sayi1=5\r\n",
        "metin1=\"cem\"\r\n",
        "print(sayi1+metin1)"
      ],
      "execution_count": null,
      "outputs": [
        {
          "output_type": "error",
          "ename": "TypeError",
          "evalue": "ignored",
          "traceback": [
            "\u001b[0;31m---------------------------------------------------------------------------\u001b[0m",
            "\u001b[0;31mTypeError\u001b[0m                                 Traceback (most recent call last)",
            "\u001b[0;32m<ipython-input-14-ee3af5440004>\u001b[0m in \u001b[0;36m<module>\u001b[0;34m()\u001b[0m\n\u001b[1;32m      1\u001b[0m \u001b[0msayi1\u001b[0m\u001b[0;34m=\u001b[0m\u001b[0;36m5\u001b[0m\u001b[0;34m\u001b[0m\u001b[0;34m\u001b[0m\u001b[0m\n\u001b[1;32m      2\u001b[0m \u001b[0mmetin1\u001b[0m\u001b[0;34m=\u001b[0m\u001b[0;34m\"cem\"\u001b[0m\u001b[0;34m\u001b[0m\u001b[0;34m\u001b[0m\u001b[0m\n\u001b[0;32m----> 3\u001b[0;31m \u001b[0mprint\u001b[0m\u001b[0;34m(\u001b[0m\u001b[0msayi1\u001b[0m\u001b[0;34m+\u001b[0m\u001b[0mmetin1\u001b[0m\u001b[0;34m)\u001b[0m\u001b[0;34m\u001b[0m\u001b[0;34m\u001b[0m\u001b[0m\n\u001b[0m",
            "\u001b[0;31mTypeError\u001b[0m: unsupported operand type(s) for +: 'int' and 'str'"
          ]
        }
      ]
    },
    {
      "cell_type": "code",
      "metadata": {
        "colab": {
          "base_uri": "https://localhost:8080/"
        },
        "id": "7X_8D1F_5dhH",
        "outputId": "4df00b60-10b5-4955-ff66-5acb6c5fd657"
      },
      "source": [
        "import keyword  #bu özel sözcükler değişken adı olarak kullanılamaz\r\n",
        "keyword.kwlist"
      ],
      "execution_count": null,
      "outputs": [
        {
          "output_type": "execute_result",
          "data": {
            "text/plain": [
              "['False',\n",
              " 'None',\n",
              " 'True',\n",
              " 'and',\n",
              " 'as',\n",
              " 'assert',\n",
              " 'break',\n",
              " 'class',\n",
              " 'continue',\n",
              " 'def',\n",
              " 'del',\n",
              " 'elif',\n",
              " 'else',\n",
              " 'except',\n",
              " 'finally',\n",
              " 'for',\n",
              " 'from',\n",
              " 'global',\n",
              " 'if',\n",
              " 'import',\n",
              " 'in',\n",
              " 'is',\n",
              " 'lambda',\n",
              " 'nonlocal',\n",
              " 'not',\n",
              " 'or',\n",
              " 'pass',\n",
              " 'raise',\n",
              " 'return',\n",
              " 'try',\n",
              " 'while',\n",
              " 'with',\n",
              " 'yield']"
            ]
          },
          "metadata": {
            "tags": []
          },
          "execution_count": 15
        }
      ]
    },
    {
      "cell_type": "code",
      "metadata": {
        "colab": {
          "base_uri": "https://localhost:8080/"
        },
        "id": "z4NX4vyw6W8H",
        "outputId": "ddbc998d-8d5e-48d1-f65a-2b841466b1eb"
      },
      "source": [
        "sayi1=5  #değişken isimleri aynı gibi görünsede 2. değişken büyük harf ile başladığı için farklı değişken olarak tanınmaktadır.\r\n",
        "\r\n",
        "Sayi1=6\r\n",
        "print(sayi1)\r\n",
        "print(Sayi1)"
      ],
      "execution_count": null,
      "outputs": [
        {
          "output_type": "stream",
          "text": [
            "5\n",
            "6\n"
          ],
          "name": "stdout"
        }
      ]
    },
    {
      "cell_type": "code",
      "metadata": {
        "colab": {
          "base_uri": "https://localhost:8080/",
          "height": 133
        },
        "id": "-BKhiis36ubG",
        "outputId": "1f98a9e4-4ebd-4f1b-ccb9-a2302b5a937b"
      },
      "source": [
        "1sayi=5\r\n",
        "print(1sayi)"
      ],
      "execution_count": null,
      "outputs": [
        {
          "output_type": "error",
          "ename": "SyntaxError",
          "evalue": "ignored",
          "traceback": [
            "\u001b[0;36m  File \u001b[0;32m\"<ipython-input-18-649051754ad1>\"\u001b[0;36m, line \u001b[0;32m1\u001b[0m\n\u001b[0;31m    1sayi=5\u001b[0m\n\u001b[0m        ^\u001b[0m\n\u001b[0;31mSyntaxError\u001b[0m\u001b[0;31m:\u001b[0m invalid syntax\n"
          ]
        }
      ]
    },
    {
      "cell_type": "code",
      "metadata": {
        "id": "GsnlxJMJ65zM"
      },
      "source": [
        "adi=\"cem\"\r\n",
        "mezunOlduguYıl=\"2014\"\r\n",
        "print(adi)\r\n",
        "print(mezunOlduguYıl)"
      ],
      "execution_count": null,
      "outputs": []
    },
    {
      "cell_type": "markdown",
      "metadata": {
        "id": "pkV54HOG8qQA"
      },
      "source": [
        "**Veri Tipleri**"
      ]
    },
    {
      "cell_type": "code",
      "metadata": {
        "colab": {
          "base_uri": "https://localhost:8080/"
        },
        "id": "_JNtV2Tb8yXM",
        "outputId": "e507b24b-7395-4d8b-c67a-e4a59f38fc8a"
      },
      "source": [
        "alan=3.14*2**2\r\n",
        "print(alan)"
      ],
      "execution_count": null,
      "outputs": [
        {
          "output_type": "stream",
          "text": [
            "12.56\n"
          ],
          "name": "stdout"
        }
      ]
    },
    {
      "cell_type": "code",
      "metadata": {
        "colab": {
          "base_uri": "https://localhost:8080/"
        },
        "id": "d4M4qthP9Axh",
        "outputId": "0ff67393-9bb6-4cc1-c5a5-70db371f4be3"
      },
      "source": [
        "karmasikSayi=4+5j\r\n",
        "print(karmasikSayi+3j)"
      ],
      "execution_count": null,
      "outputs": [
        {
          "output_type": "stream",
          "text": [
            "(4+8j)\n"
          ],
          "name": "stdout"
        }
      ]
    },
    {
      "cell_type": "code",
      "metadata": {
        "colab": {
          "base_uri": "https://localhost:8080/"
        },
        "id": "YlntZwahAhnI",
        "outputId": "88181895-937e-430f-8c42-9a3db0b92190"
      },
      "source": [
        "metin1= \"merhaba \"\r\n",
        "metin2= \"cem\"\r\n",
        "print(metin1)\r\n",
        "print(metin1*2)\r\n",
        "print(metin1 + metin2)\r\n",
        "print(len(metin1))"
      ],
      "execution_count": null,
      "outputs": [
        {
          "output_type": "stream",
          "text": [
            "merhaba \n",
            "merhaba merhaba \n",
            "merhaba cem\n",
            "8\n"
          ],
          "name": "stdout"
        }
      ]
    },
    {
      "cell_type": "code",
      "metadata": {
        "colab": {
          "base_uri": "https://localhost:8080/"
        },
        "id": "NmyIx2TEBM2S",
        "outputId": "d4eae506-4951-4ed4-d8f4-d2978da96da8"
      },
      "source": [
        "metin=\"Merhaba Cem\"\r\n",
        "print(metin[0])\r\n",
        "print(metin[0:5])\r\n",
        "print(metin[4:7])\r\n",
        "print(metin[:11])\r\n",
        "print(metin[-1])\r\n",
        "print(metin[0:7:2])\r\n",
        "print(metin[0:7:1])"
      ],
      "execution_count": null,
      "outputs": [
        {
          "output_type": "stream",
          "text": [
            "M\n",
            "Merha\n",
            "aba\n",
            "Merhaba Cem\n",
            "m\n",
            "Mraa\n",
            "Merhaba\n"
          ],
          "name": "stdout"
        }
      ]
    },
    {
      "cell_type": "code",
      "metadata": {
        "colab": {
          "base_uri": "https://localhost:8080/"
        },
        "id": "MFDSLCqgBVgm",
        "outputId": "888451c7-5403-49ba-e2c2-331b3530da16"
      },
      "source": [
        "sayi3=4+5j\r\n",
        "print(type(sayi3))\r\n",
        "demet1=(\"cem\",30)\r\n",
        "print(type(demet1))\r\n",
        "sozluk={'adi':\"cem\", \"yaşı\":30}\r\n",
        "print(type(sozluk))"
      ],
      "execution_count": null,
      "outputs": [
        {
          "output_type": "stream",
          "text": [
            "<class 'complex'>\n",
            "<class 'tuple'>\n",
            "<class 'dict'>\n"
          ],
          "name": "stdout"
        }
      ]
    },
    {
      "cell_type": "code",
      "metadata": {
        "colab": {
          "base_uri": "https://localhost:8080/"
        },
        "id": "jXigzVqpCmDC",
        "outputId": "f9f941c7-64b1-4187-8cfb-7d7e5ed9dcc2"
      },
      "source": [
        "metin1=\"5\"\r\n",
        "metin2=\"3\"\r\n",
        "print(int(metin1)+int(metin2))"
      ],
      "execution_count": null,
      "outputs": [
        {
          "output_type": "stream",
          "text": [
            "8\n"
          ],
          "name": "stdout"
        }
      ]
    },
    {
      "cell_type": "code",
      "metadata": {
        "colab": {
          "base_uri": "https://localhost:8080/"
        },
        "id": "zIcbNeyADJmE",
        "outputId": "e832b22d-bc3a-4ab9-b5cf-99238ad03af2"
      },
      "source": [
        "pi=3.14\r\n",
        "cap=5\r\n",
        "dairealanı=((pi*2)*cap)\r\n",
        "print(\"dairenin alanı\", dairealanı)\r\n",
        "dairealanıint=int(dairealanı)\r\n",
        "print(\"dairenin alanı pi integer olunca\", dairealanıint)"
      ],
      "execution_count": null,
      "outputs": [
        {
          "output_type": "stream",
          "text": [
            "dairenin alanı 31.400000000000002\n",
            "dairenin alanı pi integer olunca 31\n"
          ],
          "name": "stdout"
        }
      ]
    },
    {
      "cell_type": "code",
      "metadata": {
        "colab": {
          "base_uri": "https://localhost:8080/"
        },
        "id": "ChvmtBIRD7Et",
        "outputId": "eff7aef2-07c9-4100-8c00-c86689781759"
      },
      "source": [
        "askerlikDurumu=True\r\n",
        "print(\"askerlik yaptı mı?\", askerlikDurumu)\r\n",
        "askerlikdurumuint=int(askerlikDurumu)\r\n",
        "print(\"askerlik yaptı mı?\", askerlikdurumuint)"
      ],
      "execution_count": null,
      "outputs": [
        {
          "output_type": "stream",
          "text": [
            "askerlik yaptı mı? True\n",
            "askerlik yaptı mı? 1\n"
          ],
          "name": "stdout"
        }
      ]
    },
    {
      "cell_type": "markdown",
      "metadata": {
        "id": "-Jx1XPWgEc7y"
      },
      "source": [
        "**Operatörler**"
      ]
    },
    {
      "cell_type": "code",
      "metadata": {
        "colab": {
          "base_uri": "https://localhost:8080/"
        },
        "id": "mLIF7DFQEah1",
        "outputId": "b133d2dd-71e2-408a-bb56-06ed9380e74a"
      },
      "source": [
        "metin1=\"cem\" + \" sezer\"\r\n",
        "print(metin1)"
      ],
      "execution_count": null,
      "outputs": [
        {
          "output_type": "stream",
          "text": [
            "cem sezer\n"
          ],
          "name": "stdout"
        }
      ]
    },
    {
      "cell_type": "code",
      "metadata": {
        "colab": {
          "base_uri": "https://localhost:8080/"
        },
        "id": "Fcgot8LdE3O_",
        "outputId": "a7bd8815-d86f-4e59-9066-d79791345ba6"
      },
      "source": [
        "print(20*\" \\ncem\")"
      ],
      "execution_count": null,
      "outputs": [
        {
          "output_type": "stream",
          "text": [
            " \n",
            "cem \n",
            "cem \n",
            "cem \n",
            "cem \n",
            "cem \n",
            "cem \n",
            "cem \n",
            "cem \n",
            "cem \n",
            "cem \n",
            "cem \n",
            "cem \n",
            "cem \n",
            "cem \n",
            "cem \n",
            "cem \n",
            "cem \n",
            "cem \n",
            "cem \n",
            "cem\n"
          ],
          "name": "stdout"
        }
      ]
    },
    {
      "cell_type": "code",
      "metadata": {
        "colab": {
          "base_uri": "https://localhost:8080/"
        },
        "id": "VGcH4rhxE8fw",
        "outputId": "6063e1fe-c00b-407d-8175-74bf70851a5d"
      },
      "source": [
        "5**3\r\n"
      ],
      "execution_count": null,
      "outputs": [
        {
          "output_type": "execute_result",
          "data": {
            "text/plain": [
              "125"
            ]
          },
          "metadata": {
            "tags": []
          },
          "execution_count": 46
        }
      ]
    },
    {
      "cell_type": "markdown",
      "metadata": {
        "id": "HfMhFU0gFGrV"
      },
      "source": [
        "karakök almak için\r\n"
      ]
    },
    {
      "cell_type": "code",
      "metadata": {
        "colab": {
          "base_uri": "https://localhost:8080/"
        },
        "id": "ksNocsbyFKnS",
        "outputId": "c1f9012a-dfbc-4dc1-ad43-82c93e342612"
      },
      "source": [
        "49**(1/2)\r\n"
      ],
      "execution_count": null,
      "outputs": [
        {
          "output_type": "execute_result",
          "data": {
            "text/plain": [
              "7.0"
            ]
          },
          "metadata": {
            "tags": []
          },
          "execution_count": 50
        }
      ]
    },
    {
      "cell_type": "code",
      "metadata": {
        "colab": {
          "base_uri": "https://localhost:8080/"
        },
        "id": "vIiQ1uFaFgLj",
        "outputId": "32baa8de-d149-4016-a2dd-4319e26bccb4"
      },
      "source": [
        "121//3 #tam bölme operatörü"
      ],
      "execution_count": null,
      "outputs": [
        {
          "output_type": "execute_result",
          "data": {
            "text/plain": [
              "40"
            ]
          },
          "metadata": {
            "tags": []
          },
          "execution_count": 51
        }
      ]
    },
    {
      "cell_type": "code",
      "metadata": {
        "colab": {
          "base_uri": "https://localhost:8080/"
        },
        "id": "RMgoUl54FlPQ",
        "outputId": "99b55376-711d-4685-d362-d3bd5cac0485"
      },
      "source": [
        "5%3 #sayının 3 ile bölümünden kalan"
      ],
      "execution_count": null,
      "outputs": [
        {
          "output_type": "execute_result",
          "data": {
            "text/plain": [
              "2"
            ]
          },
          "metadata": {
            "tags": []
          },
          "execution_count": 53
        }
      ]
    },
    {
      "cell_type": "code",
      "metadata": {
        "colab": {
          "base_uri": "https://localhost:8080/"
        },
        "id": "DyLQJ78FoJcH",
        "outputId": "6353d98e-3d39-4804-94e0-927dbd8e8017"
      },
      "source": [
        "sayi1=5\r\n",
        "sayi2=3\r\n",
        "print(sayi1==sayi2)\r\n",
        "print(sayi1==5)\r\n",
        "print(sayi1!=sayi2)\r\n",
        "print(sayi1<sayi2)\r\n",
        "print(sayi1>sayi2)\r\n"
      ],
      "execution_count": null,
      "outputs": [
        {
          "output_type": "stream",
          "text": [
            "False\n",
            "True\n",
            "True\n",
            "False\n",
            "True\n"
          ],
          "name": "stdout"
        }
      ]
    },
    {
      "cell_type": "code",
      "metadata": {
        "colab": {
          "base_uri": "https://localhost:8080/"
        },
        "id": "ZfKxqzwhn8UL",
        "outputId": "4b16165f-122d-404b-af00-54176380e789"
      },
      "source": [
        "print(\"z\">\"a\")"
      ],
      "execution_count": null,
      "outputs": [
        {
          "output_type": "stream",
          "text": [
            "True\n"
          ],
          "name": "stdout"
        }
      ]
    },
    {
      "cell_type": "code",
      "metadata": {
        "colab": {
          "base_uri": "https://localhost:8080/"
        },
        "id": "2Dfa568KpPc4",
        "outputId": "de3c812a-eeae-4647-a71a-a10f43813ed7"
      },
      "source": [
        "sayi1=6.06\r\n",
        "sayi2=6.06\r\n",
        "print(sayi1<=sayi2)\r\n",
        "print(sayi1 is sayi2)"
      ],
      "execution_count": null,
      "outputs": [
        {
          "output_type": "stream",
          "text": [
            "True\n",
            "False\n"
          ],
          "name": "stdout"
        }
      ]
    },
    {
      "cell_type": "code",
      "metadata": {
        "colab": {
          "base_uri": "https://localhost:8080/"
        },
        "id": "jW05zjmXp7VE",
        "outputId": "a34b526a-86ee-45ab-b50e-add98146d075"
      },
      "source": [
        "adi=\"cem\"\r\n",
        "print(adi is \"cem\")"
      ],
      "execution_count": null,
      "outputs": [
        {
          "output_type": "stream",
          "text": [
            "True\n"
          ],
          "name": "stdout"
        }
      ]
    },
    {
      "cell_type": "code",
      "metadata": {
        "colab": {
          "base_uri": "https://localhost:8080/"
        },
        "id": "EZeRlrb3qDRx",
        "outputId": "1eee9e0f-344e-4ba9-96b5-ec62703bf415"
      },
      "source": [
        "print(\"Bil\" in \"Bilişim\")\r\n",
        "print(\"Bil\"  not in  \"Bilişim\")"
      ],
      "execution_count": null,
      "outputs": [
        {
          "output_type": "stream",
          "text": [
            "True\n",
            "False\n"
          ],
          "name": "stdout"
        }
      ]
    },
    {
      "cell_type": "code",
      "metadata": {
        "colab": {
          "base_uri": "https://localhost:8080/"
        },
        "id": "MdF0OTWirBcE",
        "outputId": "b7861800-f540-4c8a-8668-56135f0f3557"
      },
      "source": [
        "sayi1=5\r\n",
        "sayi1+=3\r\n",
        "print(sayi1)"
      ],
      "execution_count": null,
      "outputs": [
        {
          "output_type": "stream",
          "text": [
            "8\n"
          ],
          "name": "stdout"
        }
      ]
    },
    {
      "cell_type": "code",
      "metadata": {
        "colab": {
          "base_uri": "https://localhost:8080/"
        },
        "id": "Z5XM8KN1rLnG",
        "outputId": "b434bea6-c64b-4c41-b03c-99001cd7e881"
      },
      "source": [
        "metin1=\"merhaba\"\r\n",
        "metin1+=\" cem\"\r\n",
        "print(metin1)"
      ],
      "execution_count": null,
      "outputs": [
        {
          "output_type": "stream",
          "text": [
            "merhaba cem\n"
          ],
          "name": "stdout"
        }
      ]
    },
    {
      "cell_type": "code",
      "metadata": {
        "colab": {
          "base_uri": "https://localhost:8080/"
        },
        "id": "yrl9Xyz1rZCG",
        "outputId": "12c9c4e0-5c94-48df-ecbf-a9a9cf59af04"
      },
      "source": [
        "sayi1=5\r\n",
        "sayi1-=2\r\n",
        "print(sayi1)"
      ],
      "execution_count": null,
      "outputs": [
        {
          "output_type": "stream",
          "text": [
            "3\n"
          ],
          "name": "stdout"
        }
      ]
    },
    {
      "cell_type": "code",
      "metadata": {
        "colab": {
          "base_uri": "https://localhost:8080/"
        },
        "id": "5l8PzKDArhw0",
        "outputId": "98a8204e-8908-4082-ba51-c7d468faa39d"
      },
      "source": [
        "sayi1=5\r\n",
        "sayi1*=2\r\n",
        "print(sayi1)"
      ],
      "execution_count": null,
      "outputs": [
        {
          "output_type": "stream",
          "text": [
            "10\n"
          ],
          "name": "stdout"
        }
      ]
    },
    {
      "cell_type": "code",
      "metadata": {
        "colab": {
          "base_uri": "https://localhost:8080/"
        },
        "id": "pF-4Q0ogrkpx",
        "outputId": "83777d92-4ebc-4fe1-8728-c3d0460006ce"
      },
      "source": [
        "sayi1=6\r\n",
        "sayi1/=2\r\n",
        "print(sayi1)"
      ],
      "execution_count": null,
      "outputs": [
        {
          "output_type": "stream",
          "text": [
            "3.0\n"
          ],
          "name": "stdout"
        }
      ]
    },
    {
      "cell_type": "code",
      "metadata": {
        "colab": {
          "base_uri": "https://localhost:8080/"
        },
        "id": "YaW9boMerot7",
        "outputId": "6aa8929f-d269-4891-faa2-086a4c459005"
      },
      "source": [
        "sayi1=5\r\n",
        "sayi1**=2\r\n",
        "print(sayi1)"
      ],
      "execution_count": null,
      "outputs": [
        {
          "output_type": "stream",
          "text": [
            "25\n"
          ],
          "name": "stdout"
        }
      ]
    },
    {
      "cell_type": "code",
      "metadata": {
        "colab": {
          "base_uri": "https://localhost:8080/"
        },
        "id": "7RpdwFTcrx10",
        "outputId": "9fe8bab9-2088-4d33-fc9b-4a32a13748ee"
      },
      "source": [
        "sayi1=5\r\n",
        "sayi1//=2\r\n",
        "print(sayi1)"
      ],
      "execution_count": null,
      "outputs": [
        {
          "output_type": "stream",
          "text": [
            "2\n"
          ],
          "name": "stdout"
        }
      ]
    },
    {
      "cell_type": "code",
      "metadata": {
        "colab": {
          "base_uri": "https://localhost:8080/"
        },
        "id": "RJt9rTI9r06G",
        "outputId": "6920601d-ccf5-4a35-9442-7db2070b294f"
      },
      "source": [
        "sayi1=5\r\n",
        "sayi1%=2\r\n",
        "print(sayi1)"
      ],
      "execution_count": null,
      "outputs": [
        {
          "output_type": "stream",
          "text": [
            "1\n"
          ],
          "name": "stdout"
        }
      ]
    },
    {
      "cell_type": "markdown",
      "metadata": {
        "id": "dNh0XneHr848"
      },
      "source": [
        "MANTIKSAL **OPERATÖRLER**"
      ]
    },
    {
      "cell_type": "code",
      "metadata": {
        "colab": {
          "base_uri": "https://localhost:8080/"
        },
        "id": "uW3u-CzRr_kn",
        "outputId": "84ea7f21-b010-4862-f84f-1e8c0f3bb9ef"
      },
      "source": [
        "sayi1=5\r\n",
        "sayi2=6\r\n",
        "print(sayi1<6 or sayi2<5)"
      ],
      "execution_count": null,
      "outputs": [
        {
          "output_type": "stream",
          "text": [
            "True\n"
          ],
          "name": "stdout"
        }
      ]
    },
    {
      "cell_type": "code",
      "metadata": {
        "colab": {
          "base_uri": "https://localhost:8080/"
        },
        "id": "GBxsmLPisQn9",
        "outputId": "6c5ec174-160b-4b5d-d7c2-4dc442676644"
      },
      "source": [
        "sayi1=5\r\n",
        "sayi2=6\r\n",
        "print(sayi1<6 and sayi2>5)"
      ],
      "execution_count": null,
      "outputs": [
        {
          "output_type": "stream",
          "text": [
            "True\n"
          ],
          "name": "stdout"
        }
      ]
    },
    {
      "cell_type": "code",
      "metadata": {
        "colab": {
          "base_uri": "https://localhost:8080/"
        },
        "id": "XPZDxYblsXps",
        "outputId": "5b4e03e2-8ca1-497c-91ff-44fc3f7fbb34"
      },
      "source": [
        "not1=50\r\n",
        "if not not1<45:\r\n",
        "  print(\"geçti\")\r\n",
        "print(not not1<45)"
      ],
      "execution_count": null,
      "outputs": [
        {
          "output_type": "stream",
          "text": [
            "geçti\n",
            "True\n"
          ],
          "name": "stdout"
        }
      ]
    },
    {
      "cell_type": "code",
      "metadata": {
        "colab": {
          "base_uri": "https://localhost:8080/"
        },
        "id": "Bv7TcXfGtA5d",
        "outputId": "72e9c40a-b5b4-4e3e-eabe-3146307e3b7d"
      },
      "source": [
        "print(6*3/2+8/2*3)"
      ],
      "execution_count": null,
      "outputs": [
        {
          "output_type": "stream",
          "text": [
            "21.0\n"
          ],
          "name": "stdout"
        }
      ]
    }
  ]
}